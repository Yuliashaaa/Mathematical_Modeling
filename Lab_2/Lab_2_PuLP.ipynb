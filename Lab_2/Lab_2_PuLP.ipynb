{
 "cells": [
  {
   "cell_type": "code",
   "execution_count": 1,
   "id": "57c1902c",
   "metadata": {},
   "outputs": [],
   "source": [
    "# Імпорт необхідних бібліотек\n",
    "from pulp import LpMaximize, LpProblem, LpStatus, lpSum, LpVariable"
   ]
  },
  {
   "cell_type": "code",
   "execution_count": 2,
   "id": "d3da0511",
   "metadata": {},
   "outputs": [],
   "source": [
    "model = LpProblem(name = \"Lab_2_problem\", sense = LpMaximize) # Описуємо модель \n",
    "\n",
    "x = {i: LpVariable(name = f\"x{i}\", lowBound = 0) for i in range(1, 6)} # Описуємо змінні\n",
    "\n",
    "model += (2 * x[1] + x[2] - 3 * x[3] == 10, \"first_equatation\") # Додаємо до моделі перше рівняння\n",
    "model += (x[1] + x[3] + x[4] == 7, \"second_equatation\")         # Додаємо до моделі друге рівняння\n",
    "model += (-3 * x[1] - 2 * x[3] + x[5] == 4, \"third_equatation\") # Додаємо до моделі третє рівняння\n",
    "\n",
    "model += lpSum([2 * x[1], -1 * x[2], 3 * x[3], x[4]]) # Додаємо до моделі цільову функцію"
   ]
  },
  {
   "cell_type": "code",
   "execution_count": 3,
   "id": "60253083",
   "metadata": {},
   "outputs": [
    {
     "name": "stdout",
     "output_type": "stream",
     "text": [
      "status: 1, Optimal\n",
      "objective: 14.8\n",
      "x1: 6.2\n",
      "x2: 0.0\n",
      "x3: 0.8\n",
      "x4: 0.0\n",
      "x5: 24.2\n",
      "first_equatation: 0.0\n",
      "second_equatation: 2.220446049250313e-16\n",
      "third_equatation: -3.552713678800501e-15\n"
     ]
    }
   ],
   "source": [
    "status = model.solve() # Розв'язуємо задачу оптимізації\n",
    "\n",
    "# Виводимо інформацію про розв'язок\n",
    "print(f\"status: {model.status}, {LpStatus[model.status]}\")\n",
    "print(f\"objective: {model.objective.value()}\")\n",
    "for var in model.variables():\n",
    "    print(f\"{var.name}: {var.value()}\")   \n",
    "for name, constraint in model.constraints.items():\n",
    "    print(f\"{name}: {constraint.value()}\")"
   ]
  }
 ],
 "metadata": {
  "kernelspec": {
   "display_name": "Python 3 (ipykernel)",
   "language": "python",
   "name": "python3"
  },
  "language_info": {
   "codemirror_mode": {
    "name": "ipython",
    "version": 3
   },
   "file_extension": ".py",
   "mimetype": "text/x-python",
   "name": "python",
   "nbconvert_exporter": "python",
   "pygments_lexer": "ipython3",
   "version": "3.9.7"
  }
 },
 "nbformat": 4,
 "nbformat_minor": 5
}
