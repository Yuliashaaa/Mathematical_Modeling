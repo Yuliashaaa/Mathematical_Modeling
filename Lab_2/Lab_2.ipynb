{
 "cells": [
  {
   "cell_type": "code",
   "execution_count": 1,
   "id": "391da422",
   "metadata": {},
   "outputs": [],
   "source": [
    "# Імпорт необхідних бібліотек\n",
    "from scipy.optimize import linprog"
   ]
  },
  {
   "cell_type": "code",
   "execution_count": 2,
   "id": "c1c64b84",
   "metadata": {},
   "outputs": [],
   "source": [
    "# max(f) = min(-f)\n",
    "obj = [-2, 1, -3, -1, 0] # Коефіцієнти цільової функції\n",
    "\n",
    "lhs_eq = [[2, 1, -3, 0, 0],  # Коефіцієнти лівої частини першого рівняння \n",
    "          [1, 0, 1, 1, 0],   # Коефіцієнти лівої частини другого рівняння\n",
    "          [-3, 0, -2, 0, 1]] # Коефіцієнти лівої частини третього рівняння\n",
    "\n",
    "rhs_eq = [10, 7, 4] # Коефіцієнти правих частин відповідних рівнянь\n",
    "\n",
    "bnd = [(0, float(\"inf\")), # Границі х1\n",
    "       (0, float(\"inf\")), # Границі х2\n",
    "       (0, float(\"inf\")), # Границі х3\n",
    "       (0, float(\"inf\")), # Границі х4\n",
    "       (0, float(\"inf\"))] # Границі х5"
   ]
  },
  {
   "cell_type": "code",
   "execution_count": 3,
   "id": "833be360",
   "metadata": {},
   "outputs": [
    {
     "data": {
      "text/plain": [
       "     con: array([0.00000000e+00, 0.00000000e+00, 3.55271368e-15])\n",
       "     fun: -14.8\n",
       " message: 'Optimization terminated successfully.'\n",
       "     nit: 5\n",
       "   slack: array([], dtype=float64)\n",
       "  status: 0\n",
       " success: True\n",
       "       x: array([ 6.2,  0. ,  0.8,  0. , 24.2])"
      ]
     },
     "execution_count": 3,
     "metadata": {},
     "output_type": "execute_result"
    }
   ],
   "source": [
    "opt = linprog(c = obj, A_eq = lhs_eq, b_eq = rhs_eq, bounds = bnd, method = \"simplex\")\n",
    "opt\n",
    "\n",
    "# linprog()\n",
    "# .con - залишки обмеження рівності\n",
    "# .fun - оптимальне значення цільової функції\n",
    "# .message - статус операції\n",
    "# .nit - кількість ітерацій, необхідних для завершення обрахунку\n",
    "# .slack - значення різниць між значеннями лівих і правих сторін рівнянь (додаткових змінних)\n",
    "# .status - ціле число (від 0 до 4), що відображає результат розв'язку \n",
    "# .success - логічне значення, що показує, чи знайдено оптимальний розв'язок\n",
    "# .x - масив NumPy, що містить оптимальні значення змінних розв'язку"
   ]
  }
 ],
 "metadata": {
  "kernelspec": {
   "display_name": "Python 3 (ipykernel)",
   "language": "python",
   "name": "python3"
  },
  "language_info": {
   "codemirror_mode": {
    "name": "ipython",
    "version": 3
   },
   "file_extension": ".py",
   "mimetype": "text/x-python",
   "name": "python",
   "nbconvert_exporter": "python",
   "pygments_lexer": "ipython3",
   "version": "3.9.7"
  }
 },
 "nbformat": 4,
 "nbformat_minor": 5
}
