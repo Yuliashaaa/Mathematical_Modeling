{
 "cells": [
  {
   "cell_type": "code",
   "execution_count": 1,
   "id": "560c9752",
   "metadata": {},
   "outputs": [],
   "source": [
    "# Імпорт необхідних бібліотек\n",
    "import matplotlib.pyplot as plt\n",
    "import random"
   ]
  },
  {
   "cell_type": "code",
   "execution_count": 2,
   "id": "82c40f18",
   "metadata": {},
   "outputs": [],
   "source": [
    "# Масиви координат х та у точок, що потрапляють в фігуру\n",
    "x_array = []\n",
    "y_array = []"
   ]
  },
  {
   "cell_type": "code",
   "execution_count": 3,
   "id": "b7d7fb45",
   "metadata": {},
   "outputs": [],
   "source": [
    "# Функція обрахування площі фігури методом Монте Карло\n",
    "def monte_carlo(iterations):\n",
    "    n = iterations\n",
    "    goal = 0\n",
    "    s = 0\n",
    "    \n",
    "    for i in range(iterations):\n",
    "        x = random.uniform(0, 4)\n",
    "        y = random.uniform(0, 4)\n",
    "        if (((x >= 0) and (x <= 2)) and ((y >= 0) and (y <= 1))) or (((x >= 0) and (x <= 4)) and ((y >= 1) and (y <= 2))) or (((x >= 0) and (x <= (5 - y))) and ((y >= 2) and (y <= 4))):\n",
    "            goal += 1\n",
    "            x_array.append(x)\n",
    "            y_array.append(y)\n",
    "    \n",
    "    s = (goal * 16)/ n\n",
    "    return(round(s, 3))"
   ]
  },
  {
   "cell_type": "code",
   "execution_count": 4,
   "id": "d77b1442",
   "metadata": {},
   "outputs": [
    {
     "name": "stdout",
     "output_type": "stream",
     "text": [
      "Number of dots 5: S = 6.4\n",
      "Number of dots 10: S = 11.2\n",
      "Number of dots 50: S = 10.88\n",
      "Number of dots 100: S = 10.08\n",
      "Number of dots 1000: S = 9.792\n",
      "Number of dots 2000: S = 9.92\n",
      "Number of dots 3000: S = 10.096\n",
      "Number of dots 4000: S = 9.944\n",
      "Number of dots 5000: S = 10.147\n",
      "Number of dots 6000: S = 10.157\n",
      "Number of dots 7000: S = 10.014\n",
      "Number of dots 8000: S = 9.988\n",
      "Number of dots 9000: S = 10.05\n",
      "Number of dots 10000: S = 10.075\n",
      "Number of dots 50000: S = 10.065\n",
      "Number of dots 100000: S = 10.006\n",
      "Number of dots 1000000: S = 10.003\n",
      "Number of dots 10000000: S = 9.999\n",
      "Number of dots 100000000: S = 10.001\n"
     ]
    }
   ],
   "source": [
    "# Вивід результатів експерименту в залежності від кількості точок\n",
    "print(f\"Number of dots 5: S = {monte_carlo(5)}\")\n",
    "print(f\"Number of dots 10: S = {monte_carlo(10)}\")\n",
    "print(f\"Number of dots 50: S = {monte_carlo(50)}\")\n",
    "print(f\"Number of dots 100: S = {monte_carlo(100)}\")\n",
    "print(f\"Number of dots 1000: S = {monte_carlo(1000)}\")\n",
    "print(f\"Number of dots 2000: S = {monte_carlo(2000)}\")\n",
    "print(f\"Number of dots 3000: S = {monte_carlo(3000)}\")\n",
    "print(f\"Number of dots 4000: S = {monte_carlo(4000)}\")\n",
    "print(f\"Number of dots 5000: S = {monte_carlo(5000)}\")\n",
    "print(f\"Number of dots 6000: S = {monte_carlo(6000)}\")\n",
    "print(f\"Number of dots 7000: S = {monte_carlo(7000)}\")\n",
    "print(f\"Number of dots 8000: S = {monte_carlo(8000)}\")\n",
    "print(f\"Number of dots 9000: S = {monte_carlo(9000)}\")\n",
    "print(f\"Number of dots 10000: S = {monte_carlo(10000)}\")\n",
    "print(f\"Number of dots 50000: S = {monte_carlo(50000)}\")\n",
    "print(f\"Number of dots 100000: S = {monte_carlo(100000)}\")\n",
    "print(f\"Number of dots 1000000: S = {monte_carlo(1000000)}\")\n",
    "print(f\"Number of dots 10000000: S = {monte_carlo(10000000)}\")\n",
    "print(f\"Number of dots 100000000: S = {monte_carlo(100000000)}\")"
   ]
  },
  {
   "cell_type": "code",
   "execution_count": 5,
   "id": "973ad601",
   "metadata": {},
   "outputs": [],
   "source": [
    "# Виведення графіку потрапляння точок в фігуру\n",
    "# plt.axis([-1, 5, -1, 5])\n",
    "# plt.plot([0, 0, 0, 0, 0], [0, 1, 2, 3, 4], 'blue')\n",
    "# plt.plot([0, 1, 2], [0, 0, 0], 'blue')\n",
    "# plt.plot([2, 2], [0, 1], 'blue')\n",
    "# plt.plot([2, 3, 4], [1, 1, 1], 'blue')\n",
    "# plt.plot([4, 4], [1, 2], 'blue')\n",
    "# plt.plot([4, 3], [2, 2], 'blue')\n",
    "# plt.plot([3, 2, 1], [2, 3, 4], 'blue')\n",
    "# plt.plot([1, 0], [4, 4], 'blue')\n",
    "\n",
    "# for i in range(len(x_array)):\n",
    "#     plt.plot(x_array[i], y_array[i], 'ro')\n",
    "\n",
    "# plt.show\n",
    "# #plt.savefig('monte_carlo_20000.png')"
   ]
  }
 ],
 "metadata": {
  "kernelspec": {
   "display_name": "Python 3 (ipykernel)",
   "language": "python",
   "name": "python3"
  },
  "language_info": {
   "codemirror_mode": {
    "name": "ipython",
    "version": 3
   },
   "file_extension": ".py",
   "mimetype": "text/x-python",
   "name": "python",
   "nbconvert_exporter": "python",
   "pygments_lexer": "ipython3",
   "version": "3.9.7"
  }
 },
 "nbformat": 4,
 "nbformat_minor": 5
}
